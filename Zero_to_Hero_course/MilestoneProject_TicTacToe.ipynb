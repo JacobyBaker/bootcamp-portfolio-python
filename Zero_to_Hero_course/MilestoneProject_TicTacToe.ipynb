{
 "cells": [
  {
   "cell_type": "markdown",
   "metadata": {},
   "source": [
    "# Milestone Project 1\n",
    "Congratulations on making it to your first milestone!\n",
    "You've already learned a ton and are ready to work on a real project.\n",
    "\n",
    "### Your assignment: Create a Tic Tac Toe game. You are free to use any IDE you like.\n",
    "\n",
    "Here are the requirements:\n",
    "\n",
    "2 players should be able to play the game (both sitting at the same computer)\n",
    "The board should be printed out every time a player makes a move\n",
    "You should be able to accept input of the player position and then place a symbol on the board\n",
    "Feel free to use Google to help you figure anything out (but don't just Google \"Tic Tac Toe in Python\" otherwise you won't learn anything!) Keep in mind that this project can take anywhere between several hours to several days.\n",
    "\n",
    "### There are 4 Jupyter Notebooks related to this assignment:\n",
    "\n",
    "This Assignment Notebook\n",
    "A \"Walkthrough Steps Workbook\" Notebook\n",
    "A \"Complete Walkthrough Solution\" Notebook\n",
    "An \"Advanced Solution\" Notebook\n",
    "I encourage you to just try to start the project on your own without referencing any of the notebooks. If you get stuck, check out the next lecture which is a text lecture with helpful hints and steps. If you're still stuck after that, then check out the Walkthrough Steps Workbook, which breaks up the project in steps for you to solve. Still stuck? Then check out the Complete Walkthrough Solution video for more help on approaching the project!\n",
    "\n",
    "There are parts of this that will be a struggle...and that is good! I have complete faith that if you have made it this far through the course you have all the tools and knowledge to tackle this project. Remember, it's totally open book, so take your time, do a little research, and remember:\n",
    "\n",
    "## HAVE FUN!"
   ]
  },
  {
   "cell_type": "markdown",
   "metadata": {},
   "source": [
    "#### Make a function that displays the current board"
   ]
  },
  {
   "cell_type": "code",
   "execution_count": 13,
   "metadata": {},
   "outputs": [],
   "source": [
    "from IPython.display import clear_output\n",
    "\n",
    "def display_board(board):\n",
    "    \n",
    "    clear_output()\n",
    "    \n",
    "    print(\"These are the positions you can choose:\")\n",
    "    print('7','|','8','|','9')\n",
    "    print('---------')\n",
    "    print('4','|','5','|','6')\n",
    "    print('---------')\n",
    "    print('1','|','2','|','3')\n",
    "    \n",
    "    print('\\n')\n",
    "    \n",
    "    print(\"Tic Tac Toe Battlefield!: \\n\")\n",
    "    print(' ',' ',' ','|',' ',' ',' ','|',' ',' ',' ')\n",
    "    print(' ',board[7],' ','|',' ',board[8],' ','|'' ',board[9],' ')\n",
    "    print(' ',' ',' ','|',' ',' ',' ','|',' ',' ',' ')\n",
    "    print('---------------------')\n",
    "    print(' ',' ',' ','|',' ',' ',' ','|',' ',' ',' ')\n",
    "    print(' ',board[4],' ','|',' ',board[5],' ','|'' ',board[6],' ')\n",
    "    print(' ',' ',' ','|',' ',' ',' ','|',' ',' ',' ')\n",
    "    print('---------------------')\n",
    "    print(' ',' ',' ','|',' ',' ',' ','|',' ',' ',' ')\n",
    "    print(' ',board[1],' ','|',' ',board[2],' ','|'' ',board[3],' ')\n",
    "    print(' ',' ',' ','|',' ',' ',' ','|',' ',' ',' ')\n",
    "    \n",
    "    "
   ]
  },
  {
   "cell_type": "markdown",
   "metadata": {},
   "source": [
    "#### Make a function where players can choose to play as 'X' or 'O'"
   ]
  },
  {
   "cell_type": "code",
   "execution_count": 23,
   "metadata": {},
   "outputs": [],
   "source": [
    "def pick_player():\n",
    "    \n",
    "    p1 = ''\n",
    "    choice = 'Pick something else'\n",
    "    \n",
    "    while choice not in ['X','x','O','o']:\n",
    "        \n",
    "        choice = input('Player 1 choose your combat icon (X or O): ')\n",
    "        \n",
    "        if choice not in ['X','x','O','o']:\n",
    "            print(\"Sorry, you need to pick either 'X' or 'O' \")\n",
    "        \n",
    "        else:\n",
    "            p1 = choice.upper()\n",
    "            \n",
    "    if p1 == 'X':\n",
    "        p2 = 'O'\n",
    "    else:\n",
    "        p2 = 'X'\n",
    "        \n",
    "    print(\" \\nPlayer 1 will play as \", p1, '\\nPlayer 2 will play as ', p2, ' \\n ')\n",
    "    \n",
    "    return (p1,p2)\n",
    "        "
   ]
  },
  {
   "cell_type": "code",
   "execution_count": 3,
   "metadata": {},
   "outputs": [],
   "source": [
    "import random\n",
    "\n",
    "def player_start():\n",
    "    if random.randint(0,1) == 0:\n",
    "        return 'player1'\n",
    "    else:\n",
    "        return 'player2'"
   ]
  },
  {
   "cell_type": "code",
   "execution_count": 4,
   "metadata": {},
   "outputs": [],
   "source": [
    "def position_choice(players):\n",
    "    open = False\n",
    "    \n",
    "    while not open:\n",
    "        if turn == 'player1':\n",
    "            choice = input('Player 1, pick an open position to place your icon: ')\n",
    "            if choice in ['1','2','3','4','5','6','7','8','9']:\n",
    "                if position_check(board,int(choice)):\n",
    "                    open = True\n",
    "                    return int(choice)\n",
    "                else:\n",
    "                    print(\"That place is taken, please select an open position.\")\n",
    "\n",
    "            else:\n",
    "                print(\"Invalid! Pick a position between 1-9.\")\n",
    "        else:\n",
    "            choice = input('Player 2, pick an open position to place your icon: ')\n",
    "            if choice in ['1','2','3','4','5','6','7','8','9']:\n",
    "                if position_check(board,int(choice)):\n",
    "                    open = True\n",
    "                    return int(choice)\n",
    "                else:\n",
    "                    print(\"That place is taken, please select an open position.\")\n",
    "\n",
    "            else:\n",
    "                print(\"Invalid! Pick a position between 1-9.\")\n",
    "           "
   ]
  },
  {
   "cell_type": "code",
   "execution_count": 5,
   "metadata": {},
   "outputs": [],
   "source": [
    "def position_check(board,position):\n",
    "    if board[position] == ' ':\n",
    "        return True\n",
    "    else:\n",
    "        return False"
   ]
  },
  {
   "cell_type": "code",
   "execution_count": 6,
   "metadata": {},
   "outputs": [],
   "source": [
    "def place_icon(board,marker,position):\n",
    "    \n",
    "    board[position] = marker       \n",
    "    return board\n",
    "    "
   ]
  },
  {
   "cell_type": "code",
   "execution_count": 7,
   "metadata": {},
   "outputs": [],
   "source": [
    "def winner_check(board,marker):\n",
    "\n",
    "    return ((board[1] == marker and board[2] == marker and board[3] == marker) or\n",
    "           (board[4] == marker and board[5] == marker and board[6] == marker) or\n",
    "           (board[7] == marker and board[8] == marker and board[9] == marker) or\n",
    "           (board[1] == marker and board[4] == marker and board[7] == marker) or\n",
    "           (board[2] == marker and board[5] == marker and board[8] == marker) or\n",
    "           (board[3] == marker and board[6] == marker and board[9] == marker) or\n",
    "           (board[1] == marker and board[5] == marker and board[9] == marker) or\n",
    "           (board[3] == marker and board[5] == marker and board[7] == marker))"
   ]
  },
  {
   "cell_type": "code",
   "execution_count": 8,
   "metadata": {},
   "outputs": [],
   "source": [
    "def full_board(board):\n",
    "    return ((board[1] != ' ' and board[2] != ' ' and board[3] != ' ' and \n",
    "             board[4] != ' ' and board[5] != ' ' and board[6] != ' ' and \n",
    "             board[7] != ' ' and board[8] != ' ' and board[9] != ' '))\n",
    "    "
   ]
  },
  {
   "cell_type": "code",
   "execution_count": 18,
   "metadata": {},
   "outputs": [],
   "source": [
    "def replay():\n",
    "    keep_going = \"na\"\n",
    "    \n",
    "    while keep_going not in ('Y','y','N','n'):\n",
    "        keep_going = input(\"Do you want to play again? (Y or N): \")\n",
    "\n",
    "        if keep_going.lower() == 'y':\n",
    "            return True\n",
    "        elif keep_going.lower() == 'n':\n",
    "            return False\n",
    "        "
   ]
  },
  {
   "cell_type": "code",
   "execution_count": 24,
   "metadata": {},
   "outputs": [
    {
     "name": "stdout",
     "output_type": "stream",
     "text": [
      "These are the positions you can choose:\n",
      "7 | 8 | 9\n",
      "---------\n",
      "4 | 5 | 6\n",
      "---------\n",
      "1 | 2 | 3\n",
      "\n",
      "\n",
      "Tic Tac Toe Battlefield!: \n",
      "\n",
      "      |       |      \n",
      "      |   X   |  X  \n",
      "      |       |      \n",
      "---------------------\n",
      "      |       |      \n",
      "  O   |   O   |  O  \n",
      "      |       |      \n",
      "---------------------\n",
      "      |       |      \n",
      "  X   |   X   |  O  \n",
      "      |       |      \n",
      "Congratulations Player 2, you won!\n"
     ]
    },
    {
     "name": "stdin",
     "output_type": "stream",
     "text": [
      "Do you want to play again? (Y or N):  n\n"
     ]
    }
   ],
   "source": [
    "while True:\n",
    "    board = ['#',' ',' ',' ',' ',' ',' ',' ',' ',' ']\n",
    "    clear_output()\n",
    "    # welcome message\n",
    "    print(\"Welcome to Tic Tac Toe!\")\n",
    "    player1,player2 = pick_player()\n",
    "    turn = player_start()\n",
    "\n",
    "    if turn == 'player1':\n",
    "        print(\"Player 1 will go first!\")\n",
    "    else:\n",
    "        print(\"Player 2 will go first!\")\n",
    "\n",
    "    play_game = input(\"Are you ready to play? (Y or N)\")\n",
    "\n",
    "    if play_game.lower()[0] == 'y':\n",
    "        game_on = True\n",
    "    else:\n",
    "        game_on = False\n",
    "\n",
    "    while game_on:\n",
    "                \n",
    "        display_board(board)\n",
    "\n",
    "        if turn == 'player1':\n",
    "\n",
    "            position = position_choice(turn)\n",
    "\n",
    "            board = place_icon(board, player1, position)\n",
    "                        \n",
    "            display_board(board)\n",
    "\n",
    "            if winner_check(board,player1):\n",
    "                print(\"Congratulations Player 1, you won!\")\n",
    "                game_on = False\n",
    "            else:\n",
    "                if full_board(board):\n",
    "                    print(\"The game is over, no one won!\")\n",
    "                    break\n",
    "                else:\n",
    "                    turn = 'player2'\n",
    "\n",
    "        elif turn == 'player2':\n",
    "            \n",
    "            position = position_choice(turn)\n",
    "\n",
    "            board = place_icon(board, player2, position) \n",
    "                        \n",
    "            display_board(board)\n",
    "\n",
    "            if winner_check(board,player2):\n",
    "                print(\"Congratulations Player 2, you won!\")\n",
    "                game_on = False\n",
    "            else:\n",
    "                if full_board(board):\n",
    "                    print(\"The game is over, no one won!\")\n",
    "                    break\n",
    "                else:\n",
    "                    turn = 'player1'\n",
    "    \n",
    "    if not replay():\n",
    "        break\n",
    "\n",
    "       \n",
    "  "
   ]
  },
  {
   "cell_type": "code",
   "execution_count": null,
   "metadata": {},
   "outputs": [],
   "source": []
  },
  {
   "cell_type": "code",
   "execution_count": null,
   "metadata": {},
   "outputs": [],
   "source": []
  }
 ],
 "metadata": {
  "kernelspec": {
   "display_name": "Python 3",
   "language": "python",
   "name": "python3"
  },
  "language_info": {
   "codemirror_mode": {
    "name": "ipython",
    "version": 3
   },
   "file_extension": ".py",
   "mimetype": "text/x-python",
   "name": "python",
   "nbconvert_exporter": "python",
   "pygments_lexer": "ipython3",
   "version": "3.8.5"
  }
 },
 "nbformat": 4,
 "nbformat_minor": 4
}
